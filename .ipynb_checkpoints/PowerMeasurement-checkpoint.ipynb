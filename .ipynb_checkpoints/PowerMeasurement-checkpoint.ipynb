{
 "cells": [
  {
   "cell_type": "code",
   "execution_count": 2,
   "id": "1220af21-3a83-4b7e-9ae1-670b3253d91b",
   "metadata": {},
   "outputs": [
    {
     "ename": "SerialException",
     "evalue": "could not open port '/dev/ttyAM0': FileNotFoundError(2, 'Le chemin d’accès spécifié est introuvable.', None, 3)",
     "output_type": "error",
     "traceback": [
      "\u001b[1;31m---------------------------------------------------------------------------\u001b[0m",
      "\u001b[1;31mSerialException\u001b[0m                           Traceback (most recent call last)",
      "Input \u001b[1;32mIn [2]\u001b[0m, in \u001b[0;36m<module>\u001b[1;34m\u001b[0m\n\u001b[0;32m     11\u001b[0m write_api \u001b[38;5;241m=\u001b[39m influxClient\u001b[38;5;241m.\u001b[39mwrite_api(write_options\u001b[38;5;241m=\u001b[39mSYNCHRONOUS)\n\u001b[0;32m     14\u001b[0m \u001b[38;5;66;03m#serialPort = serial.Serial(\"COM3\",9600,timeout=1,parity=serial.PARITY_NONE, stopbits=serial.STOPBITS_ONE, bytesize=serial.EIGHTBITS) #open Serial Port\u001b[39;00m\n\u001b[1;32m---> 15\u001b[0m serialPort \u001b[38;5;241m=\u001b[39m \u001b[43mserial\u001b[49m\u001b[38;5;241;43m.\u001b[39;49m\u001b[43mSerial\u001b[49m\u001b[43m(\u001b[49m\u001b[38;5;124;43m\"\u001b[39;49m\u001b[38;5;124;43m/dev/ttyAM0\u001b[39;49m\u001b[38;5;124;43m\"\u001b[39;49m\u001b[43m,\u001b[49m\u001b[38;5;241;43m9600\u001b[39;49m\u001b[43m,\u001b[49m\u001b[43mtimeout\u001b[49m\u001b[38;5;241;43m=\u001b[39;49m\u001b[38;5;241;43m1\u001b[39;49m\u001b[43m,\u001b[49m\u001b[43mparity\u001b[49m\u001b[38;5;241;43m=\u001b[39;49m\u001b[43mserial\u001b[49m\u001b[38;5;241;43m.\u001b[39;49m\u001b[43mPARITY_NONE\u001b[49m\u001b[43m,\u001b[49m\u001b[43m \u001b[49m\u001b[43mstopbits\u001b[49m\u001b[38;5;241;43m=\u001b[39;49m\u001b[43mserial\u001b[49m\u001b[38;5;241;43m.\u001b[39;49m\u001b[43mSTOPBITS_ONE\u001b[49m\u001b[43m,\u001b[49m\u001b[43m \u001b[49m\u001b[43mbytesize\u001b[49m\u001b[38;5;241;43m=\u001b[39;49m\u001b[43mserial\u001b[49m\u001b[38;5;241;43m.\u001b[39;49m\u001b[43mEIGHTBITS\u001b[49m\u001b[43m)\u001b[49m \u001b[38;5;66;03m#Ubuntu open Serial Port\u001b[39;00m\n\u001b[0;32m     16\u001b[0m i\u001b[38;5;241m=\u001b[39m\u001b[38;5;241m0\u001b[39m\n\u001b[0;32m     17\u001b[0m \u001b[38;5;28mprint\u001b[39m(datetime\u001b[38;5;241m.\u001b[39mutcnow())\n",
      "File \u001b[1;32mc:\\users\\monsalve\\appdata\\local\\programs\\python\\python39\\lib\\site-packages\\serial\\serialwin32.py:33\u001b[0m, in \u001b[0;36mSerial.__init__\u001b[1;34m(self, *args, **kwargs)\u001b[0m\n\u001b[0;32m     31\u001b[0m \u001b[38;5;28mself\u001b[39m\u001b[38;5;241m.\u001b[39m_overlapped_read \u001b[38;5;241m=\u001b[39m \u001b[38;5;28;01mNone\u001b[39;00m\n\u001b[0;32m     32\u001b[0m \u001b[38;5;28mself\u001b[39m\u001b[38;5;241m.\u001b[39m_overlapped_write \u001b[38;5;241m=\u001b[39m \u001b[38;5;28;01mNone\u001b[39;00m\n\u001b[1;32m---> 33\u001b[0m \u001b[38;5;28msuper\u001b[39m(Serial, \u001b[38;5;28mself\u001b[39m)\u001b[38;5;241m.\u001b[39m\u001b[38;5;21m__init__\u001b[39m(\u001b[38;5;241m*\u001b[39margs, \u001b[38;5;241m*\u001b[39m\u001b[38;5;241m*\u001b[39mkwargs)\n",
      "File \u001b[1;32mc:\\users\\monsalve\\appdata\\local\\programs\\python\\python39\\lib\\site-packages\\serial\\serialutil.py:244\u001b[0m, in \u001b[0;36mSerialBase.__init__\u001b[1;34m(self, port, baudrate, bytesize, parity, stopbits, timeout, xonxoff, rtscts, write_timeout, dsrdtr, inter_byte_timeout, exclusive, **kwargs)\u001b[0m\n\u001b[0;32m    241\u001b[0m     \u001b[38;5;28;01mraise\u001b[39;00m \u001b[38;5;167;01mValueError\u001b[39;00m(\u001b[38;5;124m'\u001b[39m\u001b[38;5;124munexpected keyword arguments: \u001b[39m\u001b[38;5;132;01m{!r}\u001b[39;00m\u001b[38;5;124m'\u001b[39m\u001b[38;5;241m.\u001b[39mformat(kwargs))\n\u001b[0;32m    243\u001b[0m \u001b[38;5;28;01mif\u001b[39;00m port \u001b[38;5;129;01mis\u001b[39;00m \u001b[38;5;129;01mnot\u001b[39;00m \u001b[38;5;28;01mNone\u001b[39;00m:\n\u001b[1;32m--> 244\u001b[0m     \u001b[38;5;28;43mself\u001b[39;49m\u001b[38;5;241;43m.\u001b[39;49m\u001b[43mopen\u001b[49m\u001b[43m(\u001b[49m\u001b[43m)\u001b[49m\n",
      "File \u001b[1;32mc:\\users\\monsalve\\appdata\\local\\programs\\python\\python39\\lib\\site-packages\\serial\\serialwin32.py:64\u001b[0m, in \u001b[0;36mSerial.open\u001b[1;34m(self)\u001b[0m\n\u001b[0;32m     62\u001b[0m \u001b[38;5;28;01mif\u001b[39;00m \u001b[38;5;28mself\u001b[39m\u001b[38;5;241m.\u001b[39m_port_handle \u001b[38;5;241m==\u001b[39m win32\u001b[38;5;241m.\u001b[39mINVALID_HANDLE_VALUE:\n\u001b[0;32m     63\u001b[0m     \u001b[38;5;28mself\u001b[39m\u001b[38;5;241m.\u001b[39m_port_handle \u001b[38;5;241m=\u001b[39m \u001b[38;5;28;01mNone\u001b[39;00m    \u001b[38;5;66;03m# 'cause __del__ is called anyway\u001b[39;00m\n\u001b[1;32m---> 64\u001b[0m     \u001b[38;5;28;01mraise\u001b[39;00m SerialException(\u001b[38;5;124m\"\u001b[39m\u001b[38;5;124mcould not open port \u001b[39m\u001b[38;5;132;01m{!r}\u001b[39;00m\u001b[38;5;124m: \u001b[39m\u001b[38;5;132;01m{!r}\u001b[39;00m\u001b[38;5;124m\"\u001b[39m\u001b[38;5;241m.\u001b[39mformat(\u001b[38;5;28mself\u001b[39m\u001b[38;5;241m.\u001b[39mportstr, ctypes\u001b[38;5;241m.\u001b[39mWinError()))\n\u001b[0;32m     66\u001b[0m \u001b[38;5;28;01mtry\u001b[39;00m:\n\u001b[0;32m     67\u001b[0m     \u001b[38;5;28mself\u001b[39m\u001b[38;5;241m.\u001b[39m_overlapped_read \u001b[38;5;241m=\u001b[39m win32\u001b[38;5;241m.\u001b[39mOVERLAPPED()\n",
      "\u001b[1;31mSerialException\u001b[0m: could not open port '/dev/ttyAM0': FileNotFoundError(2, 'Le chemin d’accès spécifié est introuvable.', None, 3)"
     ]
    }
   ],
   "source": [
    "import serial #Import python serial library\n",
    "from datetime import datetime\n",
    "from influxdb_client import InfluxDBClient, Point, WritePrecision\n",
    "from influxdb_client.client.write_api import SYNCHRONOUS\n",
    "# You can generate an API token from the \"API Tokens Tab\" in the UI\n",
    "token = \"ks_nSY132I3RRIS6y3JITJRtF4RckdpHqZwN8dmNJG7iFML9Kk89kT_A2qDzdGKU7DVLnPsKTnbWmZiDhSyzgg==\"\n",
    "org = \"UQTR\"\n",
    "bucket = \"Battery\"\n",
    "\n",
    "influxClient= InfluxDBClient(url=\"http://localhost:8086\", token=token, org=org)\n",
    "write_api = influxClient.write_api(write_options=SYNCHRONOUS)\n",
    "\n",
    "\n",
    "#serialPort = serial.Serial(\"COM3\",9600,timeout=1,parity=serial.PARITY_NONE, stopbits=serial.STOPBITS_ONE, bytesize=serial.EIGHTBITS) #open Serial Port\n",
    "serialPort = serial.Serial(\"/dev/ttyACM0\",9600,timeout=1,parity=serial.PARITY_NONE, stopbits=serial.STOPBITS_ONE, bytesize=serial.EIGHTBITS) #Ubuntu open Serial Port\n",
    "i=0\n",
    "print(datetime.utcnow())\n",
    "Continue=True;\n",
    "while Continue:\n",
    "    try:\n",
    "        #Read a single ine from serial (Message that ends by LF \\n)\n",
    "        data=serialPort.readline()\n",
    "        dataString = data.replace(b'\\x00', b'').decode('ascii') #Delete null characters\n",
    "        if data==0x00:\n",
    "            print(\"No Data\")\n",
    "        else:\n",
    "            #Process and Transform data from MCU\n",
    "            timestamp=datetime.utcnow()\n",
    "            i=i+1\n",
    "            dataList=dataString.split(\",\")\n",
    "            currentInfo=dataList[0].split(\"=\")\n",
    "            voltageInfo=dataList[1].split(\"=\")\n",
    "            if(currentInfo[0]==\"Current\"):\n",
    "                currentValue=float(currentInfo[1])\n",
    "            if(voltageInfo[0]== \"Voltage\"):\n",
    "                voltageValue=float(voltageInfo[1])\n",
    "            #Save Time Series to Influxdb\n",
    "            point = Point(\"PowerMeasurement\")\\\n",
    "            .field(\"current\", currentValue)\\\n",
    "            .field(\"voltage\",voltageValue)\\\n",
    "            .time(timestamp,write_precision='ns')\n",
    "            print(datetime.utcnow())\n",
    "            write_api.write(bucket, org, point)\n",
    "    except KeyboardInterrupt:\n",
    "        print(\"Stop requested by User\")\n",
    "        Continue=False\n",
    "    except: \n",
    "        print(\"An Error has occurred... Sending Previous Data\")\n",
    "        point = Point(\"PowerMeasurement\")\\\n",
    "        .field(\"current\", currentValue)\\\n",
    "        .field(\"voltage\",voltageValue)\\\n",
    "        .time(timestamp,write_precision='ns')\n",
    "        print(datetime.utcnow())\n",
    "        write_api.write(bucket, org, point)\n",
    "            \n",
    "            \n",
    "print(datetime.utcnow())     \n",
    "serialPort.close()\n",
    "print(\"Port Closed\")\n",
    "influxClient.close()\n",
    "print(\"client Close\")\n",
    "\n"
   ]
  },
  {
   "cell_type": "code",
   "execution_count": 114,
   "id": "f6f0ceb2-1552-4919-83b8-6d2da1b816d8",
   "metadata": {},
   "outputs": [
    {
     "name": "stdout",
     "output_type": "stream",
     "text": [
      "Port Closed\n"
     ]
    }
   ],
   "source": [
    "serialPort.close()\n",
    "print(\"Port Closed\")"
   ]
  }
 ],
 "metadata": {
  "kernelspec": {
   "display_name": "Python 3 (ipykernel)",
   "language": "python",
   "name": "python3"
  },
  "language_info": {
   "codemirror_mode": {
    "name": "ipython",
    "version": 3
   },
   "file_extension": ".py",
   "mimetype": "text/x-python",
   "name": "python",
   "nbconvert_exporter": "python",
   "pygments_lexer": "ipython3",
   "version": "3.9.5"
  }
 },
 "nbformat": 4,
 "nbformat_minor": 5
}
